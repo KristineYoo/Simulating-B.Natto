{
 "cells": [
  {
   "cell_type": "code",
   "execution_count": 38,
   "id": "d0f3560e-d3e4-44bb-ad8f-f5d2578c9eda",
   "metadata": {},
   "outputs": [
    {
     "ename": "ModuleNotFoundError",
     "evalue": "No module named 'cobra.test'",
     "output_type": "error",
     "traceback": [
      "\u001b[0;31m---------------------------------------------------------------------------\u001b[0m",
      "\u001b[0;31mModuleNotFoundError\u001b[0m                       Traceback (most recent call last)",
      "Cell \u001b[0;32mIn[38], line 2\u001b[0m\n\u001b[1;32m      1\u001b[0m \u001b[38;5;28;01mimport\u001b[39;00m \u001b[38;5;21;01mcobra\u001b[39;00m\n\u001b[0;32m----> 2\u001b[0m \u001b[38;5;28;01mimport\u001b[39;00m \u001b[38;5;21;01mcobra\u001b[39;00m\u001b[38;5;21;01m.\u001b[39;00m\u001b[38;5;21;01mtest\u001b[39;00m \u001b[38;5;66;03m#Older version of COBRApy\u001b[39;00m\n\u001b[1;32m      3\u001b[0m \u001b[38;5;28;01mimport\u001b[39;00m \u001b[38;5;21;01mcometspy\u001b[39;00m \u001b[38;5;28;01mas\u001b[39;00m \u001b[38;5;21;01mc\u001b[39;00m\n\u001b[1;32m      4\u001b[0m \u001b[38;5;28;01mimport\u001b[39;00m \u001b[38;5;21;01mnumpy\u001b[39;00m \u001b[38;5;28;01mas\u001b[39;00m \u001b[38;5;21;01mnp\u001b[39;00m\n",
      "\u001b[0;31mModuleNotFoundError\u001b[0m: No module named 'cobra.test'"
     ]
    }
   ],
   "source": [
    "import cobra\n",
    "import cobra.test #Older version of COBRApy\n",
    "import cometspy as c\n",
    "import numpy as np\n",
    "from matplotlib import pyplot as plt\n",
    "import os\n",
    "\n",
    "os.environ['GUROBI_HOME'] = '/gurobi12.0.1_macos_universal2.pkg'\n",
    "\n",
    "import warnings\n",
    "warnings.filterwarnings(\"ignore\", category=FutureWarning)\n"
   ]
  },
  {
   "cell_type": "code",
   "execution_count": 39,
   "id": "074e5486-a951-4859-8b46-c5d04b732f54",
   "metadata": {},
   "outputs": [],
   "source": [
    "\n",
    "# Set the COMETS_HOME environment variable (replace with your actual path)\n",
    "os.environ['COMETS_HOME'] = 'comets.py' #'/path/to/your/comets/installation'\n",
    "#os.environ['GUROBI_HOME'] = '/Users/kristineyoo/Desktop/gurobi'\n",
    "\n",
    "# Load the E. coli core model\n",
    "#core = cobra.test.create_test_model(\"textbook\") #older version of COBRApy\n",
    "core = cobra.io.load_model('textbook')\n"
   ]
  },
  {
   "cell_type": "code",
   "execution_count": 34,
   "id": "53232ae2-0096-4251-aaa4-8832bb0049e9",
   "metadata": {},
   "outputs": [],
   "source": [
    "\n",
    "\n",
    "# Convert to COMETS model\n",
    "ecoli = c.model(core)\n",
    "ecoli.open_exchanges()\n",
    "ecoli.add_convection_parameters(packedDensity = 0.022,\n",
    "                                    elasticModulus = 1.e-10,\n",
    "                                    frictionConstant = 1.0,\n",
    "                                    convDiffConstant = 0.0)\n",
    "ecoli.add_noise_variance_parameter(100.)\n",
    "\n",
    "ecoli.initial_pop = [[140, 50, 1.e-6],\n",
    "                    [58, 162, 1.e-6],\n",
    "                    [28,55,1.e-6],\n",
    "                    [132, 78, 1.e-6],\n",
    "                    [85, 152, 1.e-6],\n",
    "                    [73, 123, 1.e-6],\n",
    "                    [34, 76, 1.e-6],\n",
    "                    [150, 45, 1.e-6],\n",
    "                     [120, 73, 1.e-6],\n",
    "                     [34, 138, 1.e-6],\n",
    "                     [44, 180, 1.e-6],\n",
    "                     [180, 150, 1.e-6],\n",
    "                     [165, 135, 1.e-6],\n",
    "                     [24, 38, 1.e-6],\n",
    "                     [44, 45, 1.e-6],\n",
    "                     [99, 108, 1.e-6],\n",
    "                     [95, 23, 1.e-6],\n",
    "                     [35, 101, 1.e-6],\n",
    "                     [25, 102, 1.e-6]]\n"
   ]
  },
  {
   "cell_type": "code",
   "execution_count": 35,
   "id": "508bf4a1-2059-434a-be82-56383095f038",
   "metadata": {},
   "outputs": [
    {
     "data": {
      "image/png": "[encoded data removed]",
      "text/plain": [
       "<Figure size 640x480 with 1 Axes>"
      ]
     },
     "metadata": {},
     "output_type": "display_data"
    }
   ],
   "source": [
    "# Colony Layout\n",
    "def plot_layout():\n",
    "    plt.scatter(*zip(*[pos[:2] for pos in ecoli.initial_pop]))\n",
    "    plt.title(\"Initial Colony Layout\")\n",
    "    plt.show()\n",
    "plot_layout()\n",
    "\n",
    "# Define the grid size and region map\n",
    "width = 200\n",
    "grid_size = [width, width]\n",
    "region_map = np.zeros(grid_size, dtype = int)\n",
    "region_map[:] = 1\n",
    "region_map[int(width/2):width,:] = 2\n",
    "\n",
    "# Create the layout\n",
    "ly = c.layout([ecoli])\n",
    "ly.grid = grid_size\n",
    "ly.set_region_map(region_map)\n"
   ]
  },
  {
   "cell_type": "code",
   "execution_count": 36,
   "id": "8eab6dbe-b287-47db-b3ce-6d83b846db1f",
   "metadata": {},
   "outputs": [
    {
     "name": "stdout",
     "output_type": "stream",
     "text": [
      "      diff_c g_refresh g_static g_static_val init_amount metabolite\n",
      "8   0.000005         0        0            0     0.00005   glc__D_e\n",
      "11  0.000005         0        0            0      1000.0      h2o_e\n",
      "12  0.000005         0        0            0      1000.0        h_e\n",
      "15  0.000005         0        0            0      1000.0      nh4_e\n",
      "17  0.000005         0        0            0      1000.0       pi_e\n"
     ]
    }
   ],
   "source": [
    "# Define region-specific parameters\n",
    "num_mets = ly.media.shape[0]\n",
    "diffusion_constant_region1 = [5.e-6] * num_mets\n",
    "diffusion_constant_region2 = [5.e-7] * num_mets\n",
    "friction_constant = 1.0\n",
    "\n",
    "ly.set_region_parameters(1, diffusion_constant_region1, friction_constant)\n",
    "ly.set_region_parameters(2, diffusion_constant_region2, friction_constant)\n",
    "\n",
    "# Set media concentrations\n",
    "ly.set_specific_metabolite(\"glc__D_e\", 5.e-5)\n",
    "ly.set_specific_metabolite(\"h2o_e\", 1000.)\n",
    "ly.set_specific_metabolite(\"nh4_e\", 1000.)\n",
    "ly.set_specific_metabolite(\"h_e\", 1000.)\n",
    "ly.set_specific_metabolite(\"pi_e\", 1000.)\n",
    "ly.display_current_media()\n",
    "\n",
    "# Parameters\n",
    "p = c.params()\n",
    "p.all_params[\"maxCycles\"] = 5000\n",
    "p.all_params[\"biomassMotionStyle\"] = \"Convection 2D\"\n",
    "p.all_params[\"writeBiomassLog\"] = True\n",
    "p.all_params[\"BiomassLogRate\"] = p.all_params[\"maxCycles\"]\n",
    "p.all_params[\"defaultKm\"] = 0.01\n",
    "p.all_params[\"defaultVmax\"] = 10\n",
    "p.all_params[\"timeStep\"] = 0.01\n",
    "p.all_params[\"spaceWidth\"] = 0.02\n",
    "p.all_params[\"maxSpaceBiomass\"] = 10\n",
    "p.all_params[\"minSpaceBiomass\"] = 1.e-10\n",
    "p.all_params[\"allowCellOverlap\"] = True\n",
    "p.all_params[\"writeFluxLog\"] = True\n",
    "p.all_params[\"FluxLogRate\"] = p.all_params[\"maxCycles\"]\n",
    "p.all_params[\"writeMediaLog\"] = True\n",
    "p.all_params[\"MediaLogRate\"] = p.all_params[\"maxCycles\"]\n"
   ]
  },
  {
   "cell_type": "code",
   "execution_count": 37,
   "id": "bb9a60ae-309f-4ea9-8de5-5df26dbe4158",
   "metadata": {},
   "outputs": [
    {
     "ename": "FileNotFoundError",
     "evalue": "[Errno 2] No such file or directory: 'comets.py/bin'",
     "output_type": "error",
     "traceback": [
      "\u001b[0;31m---------------------------------------------------------------------------\u001b[0m",
      "\u001b[0;31mFileNotFoundError\u001b[0m                         Traceback (most recent call last)",
      "Cell \u001b[0;32mIn[37], line 2\u001b[0m\n\u001b[1;32m      1\u001b[0m \u001b[38;5;66;03m# Run the simulation\u001b[39;00m\n\u001b[0;32m----> 2\u001b[0m sim \u001b[38;5;241m=\u001b[39m c\u001b[38;5;241m.\u001b[39mcomets(ly, p)\n\u001b[1;32m      3\u001b[0m sim\u001b[38;5;241m.\u001b[39mrun()\n",
      "File \u001b[0;32m/Applications/anaconda3/lib/python3.12/site-packages/cometspy/comets.py:143\u001b[0m, in \u001b[0;36mcomets.__init__\u001b[0;34m(self, layout, parameters, relative_dir)\u001b[0m\n\u001b[1;32m    141\u001b[0m             \u001b[38;5;28mprint\u001b[39m(\u001b[38;5;124m\"\u001b[39m\u001b[38;5;124m              os.environ[\u001b[39m\u001b[38;5;124m'\u001b[39m\u001b[38;5;124mGUROBI_HOME\u001b[39m\u001b[38;5;124m'\u001b[39m\u001b[38;5;124m] = \u001b[39m\u001b[38;5;124m'\u001b[39m\u001b[38;5;124mC:\u001b[39m\u001b[38;5;130;01m\\\\\u001b[39;00m\u001b[38;5;130;01m\\\\\u001b[39;00m\u001b[38;5;124mgurobi902\u001b[39m\u001b[38;5;130;01m\\\\\u001b[39;00m\u001b[38;5;130;01m\\\\\u001b[39;00m\u001b[38;5;124mwin64\u001b[39m\u001b[38;5;124m'\u001b[39m\u001b[38;5;124m\"\u001b[39m)\n\u001b[1;32m    142\u001b[0m \u001b[38;5;28mself\u001b[39m\u001b[38;5;241m.\u001b[39mCOMETS_HOME \u001b[38;5;241m=\u001b[39m os\u001b[38;5;241m.\u001b[39menviron[\u001b[38;5;124m'\u001b[39m\u001b[38;5;124mCOMETS_HOME\u001b[39m\u001b[38;5;124m'\u001b[39m]\n\u001b[0;32m--> 143\u001b[0m \u001b[38;5;28mself\u001b[39m\u001b[38;5;241m.\u001b[39mVERSION \u001b[38;5;241m=\u001b[39m os\u001b[38;5;241m.\u001b[39mpath\u001b[38;5;241m.\u001b[39msplitext(os\u001b[38;5;241m.\u001b[39mlistdir(os\u001b[38;5;241m.\u001b[39menviron[\u001b[38;5;124m'\u001b[39m\u001b[38;5;124mCOMETS_HOME\u001b[39m\u001b[38;5;124m'\u001b[39m] \u001b[38;5;241m+\u001b[39m\n\u001b[1;32m    144\u001b[0m                                            \u001b[38;5;124m'\u001b[39m\u001b[38;5;124m/bin\u001b[39m\u001b[38;5;124m'\u001b[39m)[\u001b[38;5;241m0\u001b[39m])[\u001b[38;5;241m0\u001b[39m]\n\u001b[1;32m    146\u001b[0m \u001b[38;5;66;03m# set default classpaths, which users may change\u001b[39;00m\n\u001b[1;32m    147\u001b[0m \u001b[38;5;28mself\u001b[39m\u001b[38;5;241m.\u001b[39m__build_default_classpath_pieces()\n",
      "\u001b[0;31mFileNotFoundError\u001b[0m: [Errno 2] No such file or directory: 'comets.py/bin'"
     ]
    }
   ],
   "source": [
    "\n",
    "# Run the simulation\n",
    "sim = c.comets(ly, p)\n",
    "sim.run()"
   ]
  },
  {
   "cell_type": "code",
   "execution_count": null,
   "id": "ed8bfb9d-44bb-4c75-a97e-9678e6f08b2e",
   "metadata": {},
   "outputs": [],
   "source": []
  },
  {
   "cell_type": "code",
   "execution_count": null,
   "id": "244c18a1-46f4-4cab-b28d-b720ed706ace",
   "metadata": {},
   "outputs": [],
   "source": []
  }
 ],
 "metadata": {
  "kernelspec": {
   "display_name": "Python 3 (ipykernel)",
   "language": "python",
   "name": "python3"
  },
  "language_info": {
   "codemirror_mode": {
    "name": "ipython",
    "version": 3
   },
   "file_extension": ".py",
   "mimetype": "text/x-python",
   "name": "python",
   "nbconvert_exporter": "python",
   "pygments_lexer": "ipython3",
   "version": "3.12.2"
  }
 },
 "nbformat": 4,
 "nbformat_minor": 5
}
